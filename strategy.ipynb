{
 "cells": [
  {
   "cell_type": "markdown",
   "metadata": {},
   "source": [
    "# Strategy in Finding a Business Location\n",
    "\n",
    "To find the best business location, start by analyzing your target market, researching potential areas, and considering factors like accessibility, infrastructure, and zoning regulations.\n",
    "Here's a more detailed strategy:  \n",
    "\n",
    "##  1. Define Your Needs and Goals: \n",
    "- **Target Market:** Identify your ideal customer base and where they are located\n",
    "    - For definition see [this](https://www.investopedia.com/terms/t/target-market.asp#:~:text=Demographic%3A%20These%20are%20the%20main,in%20the%20era%20of%20globalization.)\n",
    "- **Business Type:** Determine if your business requires \n",
    "    - high foot traffic\n",
    "    - proximity to suppliers\n",
    "    - access to specific infrastructure (e.g., highways, rail yards)\n",
    "- **Budget:** Establish a realistic budget for \n",
    "    - rent\n",
    "    - utilities\n",
    "    - other location-related costs\n",
    "- **Brand Image:** Consider how the location will impact your brand's image and customer perception"
   ]
  },
  {
   "cell_type": "markdown",
   "metadata": {},
   "source": [
    "### Market Analysis\n",
    "Example: Laundromat in Vandergrift, PA"
   ]
  },
  {
   "cell_type": "markdown",
   "metadata": {},
   "source": [
    "- **Demographic Analysis:** Use local census data to understand the demographics of your area. \n",
    "    - Look for age distributions, income levels, and household sizes that match the typical profile of a user (for our example laundromat user).\n",
    "- **Psychographic Information:** Go beyond basic demographics to explore customer lifestyles, values, and habits. \n",
    "\n",
    "For instance, are there large groups of environmentally conscious consumers in your area who might appreciate eco-friendly laundry solutions?"
   ]
  },
  {
   "cell_type": "code",
   "execution_count": null,
   "metadata": {},
   "outputs": [],
   "source": [
    "# Import modules\n",
    "import matplotlib.pyplot as plt\n",
    "import pandas as pd\n",
    "from census import Census\n",
    "from us import states\n",
    "import requests\n",
    "from typing import Dict, Optional\n",
    "import json\n",
    "from pathlib import Path\n",
    "import zipcodes\n",
    "import addfips\n",
    "\n",
    "\n",
    "# Created modules\n",
    "from ipython_config import CENSUS_KEY\n"
   ]
  },
  {
   "cell_type": "code",
   "execution_count": null,
   "metadata": {},
   "outputs": [],
   "source": [
    "# Set API key\n",
    "c = Census(CENSUS_KEY)"
   ]
  },
  {
   "cell_type": "code",
   "execution_count": null,
   "metadata": {},
   "outputs": [],
   "source": [
    "# Coin-Operated Laundries and Drycleaners for all years!\n",
    "NAICS = '812310'\n",
    "\n",
    "# Vandergrift, PA\n",
    "ZIPCODE = '15690'\n",
    "\n",
    "state = states.PA\n",
    "STATEFIPS = state.fips\n",
    "STATENAME = state.name\n",
    "\n",
    "result = zipcodes.matching(ZIPCODE)[0]\n",
    "COUNTYNAME = result['county']\n",
    "\n",
    "af = addfips.AddFIPS()\n",
    "\n",
    "# Get FIPS code for a single county\n",
    "COUNTYFIP = af.get_county_fips(county=COUNTYNAME, state=STATENAME)\n",
    "COUNTYCODE = COUNTYFIP[2:]\n",
    "\n",
    "print(f\"\"\"\n",
    "NAICS: {NAICS}\n",
    "ZIPCODE: {ZIPCODE}\n",
    "STATEFIPS: {STATEFIPS}\n",
    "STATENAME: {STATENAME}\n",
    "COUNTYNAME: {COUNTYNAME} \n",
    "COUNTYFIP: {COUNTYFIP}  \n",
    "COUNTYCODE: {COUNTYCODE}\n",
    "\"\"\")"
   ]
  },
  {
   "cell_type": "markdown",
   "metadata": {},
   "source": [
    "## Locate & Analyze Customers and Market with **Census Business Builder**\n",
    "- [Video How-To](https://www.census.gov/data/academy/data-gems/2023/locate-analyze-customers-market-with-cbb.html)\n",
    "- [Census Business Builder](https://cbb.census.gov/cbb/)"
   ]
  },
  {
   "cell_type": "code",
   "execution_count": null,
   "metadata": {},
   "outputs": [],
   "source": [
    "for key, value in result.items():\n",
    "    print(f'{key.replace('_', '').upper()}: {value}')"
   ]
  },
  {
   "cell_type": "markdown",
   "metadata": {},
   "source": [
    "### Poverty Rate by Tract (County and State specified)"
   ]
  },
  {
   "cell_type": "code",
   "execution_count": null,
   "metadata": {},
   "outputs": [],
   "source": [
    "# Obtain Census variables from the 2019 ACS at the tract level for the Commonwealth of Virginia (FIPS code: 51)\n",
    "# C17002_001E: count of ratio of income to poverty in the past 12 months (total)\n",
    "# C17002_002E: count of ratio of income to poverty in the past 12 months (< 0.50)\n",
    "# C17002_003E: count of ratio of income to poverty in the past 12 months (0.50 - 0.99)\n",
    "# B01003_001E: total population\n",
    "# Sources: https://api.census.gov/data/2019/acs/acs5/variables.html; https://pypi.org/project/census/\n",
    "census = c.acs5.state_county_tract(fields = ('NAME', 'C17002_001E', 'C17002_002E', 'C17002_003E', 'B01003_001E'),\n",
    "                                      state_fips = STATEFIPS,\n",
    "                                      county_fips = COUNTYCODE,\n",
    "                                      tract = \"*\",\n",
    "                                      year = 2022)"
   ]
  },
  {
   "cell_type": "code",
   "execution_count": null,
   "metadata": {},
   "outputs": [],
   "source": [
    "# Create a dataframe from the census data\n",
    "df = pd.DataFrame(census)\n",
    "\n",
    "# Show the dataframe\n",
    "print('Shape: ', df.shape)"
   ]
  },
  {
   "cell_type": "code",
   "execution_count": null,
   "metadata": {},
   "outputs": [],
   "source": [
    "df.head()"
   ]
  },
  {
   "cell_type": "code",
   "execution_count": null,
   "metadata": {},
   "outputs": [],
   "source": [
    "# Combine state, county, and tract columns together to create a new string and assign to new column\n",
    "df[\"GEOID\"] = df[\"state\"] + df[\"county\"] + df[\"tract\"]"
   ]
  },
  {
   "cell_type": "code",
   "execution_count": null,
   "metadata": {},
   "outputs": [],
   "source": [
    "# Remove columns\n",
    "df = df.drop(columns = [\"state\", \"county\", \"tract\"])\n",
    "\n",
    "# Show updated dataframe\n",
    "df.head(2)"
   ]
  },
  {
   "cell_type": "code",
   "execution_count": null,
   "metadata": {},
   "outputs": [],
   "source": [
    "# Check column data types for census data\n",
    "print(\"Column data types for census data:\\n{}\".format(df.dtypes))\n",
    "\n",
    "# Source: https://pandas.pydata.org/pandas-docs/stable/reference/api/pandas.DataFrame.dtypes.html"
   ]
  },
  {
   "cell_type": "code",
   "execution_count": null,
   "metadata": {},
   "outputs": [],
   "source": [
    "# Get poverty rate and store values in new column\n",
    "df[\"Poverty_Rate\"] = (df[\"C17002_002E\"] + df[\"C17002_003E\"]) / df[\"B01003_001E\"] * 100\n",
    "\n",
    "# Show dataframe\n",
    "df[['NAME', 'Poverty_Rate']].head()"
   ]
  },
  {
   "cell_type": "markdown",
   "metadata": {},
   "source": [
    "## API's For Small Business Statistics\n",
    "- Nonemployer Statistics\n",
    "- Business Patterns County Business Patterns\n",
    "- Economic Census"
   ]
  },
  {
   "cell_type": "markdown",
   "metadata": {},
   "source": [
    "## Annual Business Survey (ABS) Data"
   ]
  },
  {
   "cell_type": "code",
   "execution_count": null,
   "metadata": {},
   "outputs": [],
   "source": [
    "# Company Summary\n",
    "\n",
    "nonemp_params = {\n",
    "    'variables' : \"NAME,CBSA,COUNTY,CSA,NAICS2022,NAICS2022_LABEL,NESTAB,NRCPTOT,NRCPTOT_N,RCPSZES,YEAR\",\n",
    "    'geography': f\"county:{COUNTYCODE}&in=state:{STATEFIPS}\",\n",
    "    'api_key': CENSUS_KEY,\n",
    "    'dataset_base': 'nonemp',\n",
    "    'year': '2022'\n",
    "}"
   ]
  },
  {
   "cell_type": "code",
   "execution_count": null,
   "metadata": {},
   "outputs": [],
   "source": [
    "# Characteristics of Businesses\n",
    "\n",
    "cbp_params = {\n",
    "    'variables' : \"NAME,CBSA,CD,COUNTY,CSA,EMP,EMP_N,EMPSZES_LABEL,ESTAB,NAICS2017,NAICS2017_LABEL,PAYANN,PAYANN_N,PAYQTR1,PAYQTR1_N,YEAR,ZIPCODE\",\n",
    "    'geography': f\"county:{COUNTYCODE}&in=state:{STATEFIPS}\",\n",
    "    'api_key': CENSUS_KEY,\n",
    "    'dataset_base': 'cbp',\n",
    "    'year': '2022'\n",
    "}\n"
   ]
  },
  {
   "cell_type": "code",
   "execution_count": null,
   "metadata": {},
   "outputs": [],
   "source": [
    "\n",
    "# Characteristics of Business Owners\n",
    "ecnbasic_params = {\n",
    "    'variables' : \"NAME,CONCIT,COUNTY,CSA,CSLDL,NAICS2022,NAICS2022_LABEL,ECPLACE,EMP,EMP_IMP,FIRM,PAYANN,PAYQTR1,YEAR\",\n",
    "    'geography': f\"county:{COUNTYCODE}&in=state:{STATEFIPS}\",\n",
    "    'api_key': CENSUS_KEY,\n",
    "    'dataset_base': 'ecnbasic',\n",
    "    'year': '2022'\n",
    "}"
   ]
  },
  {
   "cell_type": "code",
   "execution_count": null,
   "metadata": {},
   "outputs": [],
   "source": [
    "import pandas as pd\n",
    "from IPython.display import display\n",
    "\n",
    "\n",
    "def get_data(abs_params):\n",
    "    \"\"\"\n",
    "    Get data from the Cenus Bureau API\n",
    "    \n",
    "    Parameters:\n",
    "    - variables: Comma-separated string of variable names\n",
    "    - geography: Geographic level (default: national level)\n",
    "    - api_key: Your Census Bureau API key\n",
    "    \"\"\"\n",
    "    base_url = \"https://api.census.gov/data\"\n",
    "    year = abs_params['year']\n",
    "    dataset = abs_params['dataset_base']\n",
    "    variables = abs_params['variables']\n",
    "    geography = abs_params['geography']\n",
    "    api_key = abs_params['api_key']\n",
    "    \n",
    "    # Construct the full URL\n",
    "    url = f\"{base_url}/{year}/{dataset}?get={variables}&for={geography}\"\n",
    "    print(url)\n",
    "    \n",
    "    if api_key:\n",
    "        url += f\"&key={api_key}\"\n",
    "        \n",
    "    response = requests.get(url)\n",
    "    \n",
    "    if response.status_code == 200:\n",
    "        return response.json()\n",
    "    else:\n",
    "        raise Exception(f\"Failed to retrieve data. Status code: {response}\")\n",
    "\n",
    "def get_all_business_code_table(df, naics_code, naics_colum):\n",
    "    n = len(naics_code)\n",
    "    full_list = []\n",
    "    for i in range(n):\n",
    "\n",
    "        naics_temp = naics_code[:i]\n",
    "        naics_table = df[(df[naics_colum]==naics_temp)]\n",
    "\n",
    "        if naics_table.shape[0]:\n",
    "            full_list.append(naics_table)\n",
    "        \n",
    "    full_df = pd.concat(full_list)\n",
    "    return  full_df"
   ]
  },
  {
   "cell_type": "code",
   "execution_count": null,
   "metadata": {},
   "outputs": [],
   "source": []
  },
  {
   "cell_type": "code",
   "execution_count": null,
   "metadata": {},
   "outputs": [],
   "source": [
    "nonemp = pd.DataFrame(get_data(nonemp_params))\n",
    "nonemp.columns = nonemp.iloc[0]\n",
    "nonemp = nonemp.iloc[1:]\n",
    "nonemp[(nonemp['NAICS2022']==NAICS)]"
   ]
  },
  {
   "cell_type": "code",
   "execution_count": null,
   "metadata": {},
   "outputs": [],
   "source": [
    "all_bc_nonemp = get_all_business_code_table(nonemp, NAICS, 'NAICS2022')\n",
    "display(all_bc_nonemp)"
   ]
  },
  {
   "cell_type": "code",
   "execution_count": null,
   "metadata": {},
   "outputs": [],
   "source": [
    "cbp = pd.DataFrame(get_data(cbp_params))\n",
    "cbp.columns = cbp.iloc[0]\n",
    "cbp = cbp.iloc[1:]\n",
    "cbp[(cbp['NAICS2017']==NAICS)]"
   ]
  },
  {
   "cell_type": "code",
   "execution_count": null,
   "metadata": {},
   "outputs": [],
   "source": [
    "ecnbasic = pd.DataFrame(get_data(ecnbasic_params))\n",
    "ecnbasic.columns = ecnbasic.iloc[0]\n",
    "ecnbasic = ecnbasic.iloc[1:]\n",
    "ecnbasic[(ecnbasic['NAICS2022']==NAICS)]"
   ]
  },
  {
   "cell_type": "code",
   "execution_count": null,
   "metadata": {},
   "outputs": [],
   "source": [
    "all_bc_ecnbasic = get_all_business_code_table(nonemp, NAICS, 'NAICS2022')\n",
    "display(all_bc_ecnbasic)"
   ]
  },
  {
   "cell_type": "markdown",
   "metadata": {},
   "source": [
    "## 2. Research Potential Locations:\n",
    "- **Demographics:** Research the demographics of potential areas to ensure they align with your target market\n",
    "- **Competition:** Analyze the competitive landscape in each area to understand the level of competition\n",
    "- **Infrastructure:** Assess the availability of essential infrastructure, such as \n",
    "    - transportation\n",
    "    - utilities\n",
    "    - internet access\n",
    "- **Zoning Laws:** Understand local zoning regulations and restrictions to ensure compliance\n",
    "- **Local Resources:** Explore local government census data or tools like WIGeoLocation for further research  \n",
    "- **Accessibility:** Evaluate the accessibility of the location for both customers and employees\n",
    "- **Traffic:** Consider traffic patterns and parking availability, especially if foot traffic is important "
   ]
  },
  {
   "cell_type": "markdown",
   "metadata": {},
   "source": [
    "## 3. Evaluate and Compare:  \n",
    "- **Visit Potential Locations:** Conduct site visits to assess the suitability of each location firsthand\n",
    "- **Cost Analysis:** Compare the costs of different \n",
    "    - locations\n",
    "    - including rent\n",
    "    - utilities\n",
    "    - taxes  \n",
    "- **Pros and Cons:** Create a list of pros and cons for each potential location to help make a decision\n",
    "- **Long-Term Growth Potential:** Consider the long-term growth potential of the area and its ability to support your business  "
   ]
  },
  {
   "cell_type": "markdown",
   "metadata": {},
   "source": [
    "## 4. Consider Legal and Institutional Factors: \n",
    "- **Business Licenses:** Research the necessary business licenses and permits required for your business type and location. \n",
    "- **Local Regulations:** Understand any local regulations or restrictions that may affect your business operations.\n",
    "- **Government Incentives:** Explore any local or state government incentives or programs that may be available for businesses in specific areas."
   ]
  }
 ],
 "metadata": {
  "kernelspec": {
   "display_name": ".venv",
   "language": "python",
   "name": "python3"
  },
  "language_info": {
   "codemirror_mode": {
    "name": "ipython",
    "version": 3
   },
   "file_extension": ".py",
   "mimetype": "text/x-python",
   "name": "python",
   "nbconvert_exporter": "python",
   "pygments_lexer": "ipython3",
   "version": "3.13.3"
  }
 },
 "nbformat": 4,
 "nbformat_minor": 2
}
