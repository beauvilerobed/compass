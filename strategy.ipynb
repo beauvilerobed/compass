{
 "cells": [
  {
   "cell_type": "markdown",
   "metadata": {},
   "source": [
    "# Best Strategy in Finding a Business Location in PA (or in General)\n",
    "\n",
    "To find the best business location in PA (or in General), start by analyzing your target market, researching potential areas, and considering factors like accessibility, infrastructure, and zoning regulations.\n",
    "Here's a more detailed strategy:  \n",
    "\n",
    "##  1. Define Your Needs and Goals: \n",
    "- **Target Market:** Identify your ideal customer base and where they are located\n",
    "    - For definition see [this](https://www.investopedia.com/terms/t/target-market.asp#:~:text=Demographic%3A%20These%20are%20the%20main,in%20the%20era%20of%20globalization.)\n",
    "- **Business Type:** Determine if your business requires \n",
    "    - high foot traffic\n",
    "    - proximity to suppliers\n",
    "    - access to specific infrastructure (e.g., highways, rail yards)\n",
    "- **Budget:** Establish a realistic budget for \n",
    "    - rent\n",
    "    - utilities\n",
    "    - other location-related costs\n",
    "- **Brand Image:** Consider how the location will impact your brand's image and customer perception"
   ]
  },
  {
   "cell_type": "markdown",
   "metadata": {},
   "source": [
    "### Market Analysis\n",
    "Example: Laundromat in Vandergrift, PA"
   ]
  },
  {
   "cell_type": "code",
   "execution_count": 1,
   "metadata": {},
   "outputs": [],
   "source": [
    "business = 'laudromat'\n",
    "location = 'Vandergrift, PA'"
   ]
  },
  {
   "cell_type": "markdown",
   "metadata": {},
   "source": [
    "- **Demographic Analysis:** Use local census data to understand the demographics of your area. \n",
    "    - Look for age distributions, income levels, and household sizes that match the typical profile of a user (for our example laundromat user).\n",
    "- **Psychographic Information:** Go beyond basic demographics to explore customer lifestyles, values, and habits. \n",
    "\n",
    "For instance, are there large groups of environmentally conscious consumers in your area who might appreciate eco-friendly laundry solutions?"
   ]
  },
  {
   "cell_type": "code",
   "execution_count": 2,
   "metadata": {},
   "outputs": [],
   "source": [
    "# Import modules\n",
    "import matplotlib.pyplot as plt\n",
    "import pandas as pd\n",
    "from census import Census\n",
    "from us import states\n",
    "\n",
    "# Created modules\n",
    "from ipython_config import CENSUS_KEY\n"
   ]
  },
  {
   "cell_type": "code",
   "execution_count": 3,
   "metadata": {},
   "outputs": [],
   "source": [
    "# Set API key\n",
    "c = Census(CENSUS_KEY)"
   ]
  },
  {
   "cell_type": "code",
   "execution_count": 4,
   "metadata": {},
   "outputs": [],
   "source": [
    "# Obtain Census variables from the 2019 ACS at the tract level for the Commonwealth of Virginia (FIPS code: 51)\n",
    "# C17002_001E: count of ratio of income to poverty in the past 12 months (total)\n",
    "# C17002_002E: count of ratio of income to poverty in the past 12 months (< 0.50)\n",
    "# C17002_003E: count of ratio of income to poverty in the past 12 months (0.50 - 0.99)\n",
    "# B01003_001E: total population\n",
    "# Sources: https://api.census.gov/data/2019/acs/acs5/variables.html; https://pypi.org/project/census/\n",
    "va_census = c.acs5.state_county_tract(fields = ('NAME', 'C17002_001E', 'C17002_002E', 'C17002_003E', 'B01003_001E'),\n",
    "                                      state_fips = states.VA.fips,\n",
    "                                      county_fips = \"*\",\n",
    "                                      tract = \"*\",\n",
    "                                      year = 2017)"
   ]
  },
  {
   "cell_type": "code",
   "execution_count": 5,
   "metadata": {},
   "outputs": [
    {
     "name": "stdout",
     "output_type": "stream",
     "text": [
      "                                         NAME  C17002_001E  C17002_002E  \\\n",
      "0     Census Tract 60, Norfolk city, Virginia       3947.0        284.0   \n",
      "1  Census Tract 65.02, Norfolk city, Virginia       3287.0        383.0   \n",
      "\n",
      "   C17002_003E  B01003_001E state county   tract  \n",
      "0        507.0       3947.0    51    710  006000  \n",
      "1        480.0       3302.0    51    710  006502  \n",
      "Shape:  (1907, 8)\n"
     ]
    }
   ],
   "source": [
    "# Create a dataframe from the census data\n",
    "va_df = pd.DataFrame(va_census)\n",
    "\n",
    "# Show the dataframe\n",
    "print(va_df.head(2))\n",
    "print('Shape: ', va_df.shape)"
   ]
  },
  {
   "cell_type": "code",
   "execution_count": 6,
   "metadata": {},
   "outputs": [],
   "source": [
    "# Combine state, county, and tract columns together to create a new string and assign to new column\n",
    "va_df[\"GEOID\"] = va_df[\"state\"] + va_df[\"county\"] + va_df[\"tract\"]"
   ]
  },
  {
   "cell_type": "code",
   "execution_count": 7,
   "metadata": {},
   "outputs": [
    {
     "data": {
      "text/html": [
       "<div>\n",
       "<style scoped>\n",
       "    .dataframe tbody tr th:only-of-type {\n",
       "        vertical-align: middle;\n",
       "    }\n",
       "\n",
       "    .dataframe tbody tr th {\n",
       "        vertical-align: top;\n",
       "    }\n",
       "\n",
       "    .dataframe thead th {\n",
       "        text-align: right;\n",
       "    }\n",
       "</style>\n",
       "<table border=\"1\" class=\"dataframe\">\n",
       "  <thead>\n",
       "    <tr style=\"text-align: right;\">\n",
       "      <th></th>\n",
       "      <th>NAME</th>\n",
       "      <th>C17002_001E</th>\n",
       "      <th>C17002_002E</th>\n",
       "      <th>C17002_003E</th>\n",
       "      <th>B01003_001E</th>\n",
       "      <th>GEOID</th>\n",
       "    </tr>\n",
       "  </thead>\n",
       "  <tbody>\n",
       "    <tr>\n",
       "      <th>0</th>\n",
       "      <td>Census Tract 60, Norfolk city, Virginia</td>\n",
       "      <td>3947.0</td>\n",
       "      <td>284.0</td>\n",
       "      <td>507.0</td>\n",
       "      <td>3947.0</td>\n",
       "      <td>51710006000</td>\n",
       "    </tr>\n",
       "    <tr>\n",
       "      <th>1</th>\n",
       "      <td>Census Tract 65.02, Norfolk city, Virginia</td>\n",
       "      <td>3287.0</td>\n",
       "      <td>383.0</td>\n",
       "      <td>480.0</td>\n",
       "      <td>3302.0</td>\n",
       "      <td>51710006502</td>\n",
       "    </tr>\n",
       "  </tbody>\n",
       "</table>\n",
       "</div>"
      ],
      "text/plain": [
       "                                         NAME  C17002_001E  C17002_002E  \\\n",
       "0     Census Tract 60, Norfolk city, Virginia       3947.0        284.0   \n",
       "1  Census Tract 65.02, Norfolk city, Virginia       3287.0        383.0   \n",
       "\n",
       "   C17002_003E  B01003_001E        GEOID  \n",
       "0        507.0       3947.0  51710006000  \n",
       "1        480.0       3302.0  51710006502  "
      ]
     },
     "execution_count": 7,
     "metadata": {},
     "output_type": "execute_result"
    }
   ],
   "source": [
    "# Remove columns\n",
    "va_df = va_df.drop(columns = [\"state\", \"county\", \"tract\"])\n",
    "\n",
    "# Show updated dataframe\n",
    "va_df.head(2)"
   ]
  },
  {
   "cell_type": "code",
   "execution_count": 9,
   "metadata": {},
   "outputs": [
    {
     "name": "stdout",
     "output_type": "stream",
     "text": [
      "Column data types for census data:\n",
      "NAME            object\n",
      "C17002_001E    float64\n",
      "C17002_002E    float64\n",
      "C17002_003E    float64\n",
      "B01003_001E    float64\n",
      "GEOID           object\n",
      "dtype: object\n"
     ]
    }
   ],
   "source": [
    "# Check column data types for census data\n",
    "print(\"Column data types for census data:\\n{}\".format(va_df.dtypes))\n",
    "\n",
    "# Source: https://pandas.pydata.org/pandas-docs/stable/reference/api/pandas.DataFrame.dtypes.html"
   ]
  },
  {
   "cell_type": "code",
   "execution_count": 10,
   "metadata": {},
   "outputs": [
    {
     "data": {
      "text/html": [
       "<div>\n",
       "<style scoped>\n",
       "    .dataframe tbody tr th:only-of-type {\n",
       "        vertical-align: middle;\n",
       "    }\n",
       "\n",
       "    .dataframe tbody tr th {\n",
       "        vertical-align: top;\n",
       "    }\n",
       "\n",
       "    .dataframe thead th {\n",
       "        text-align: right;\n",
       "    }\n",
       "</style>\n",
       "<table border=\"1\" class=\"dataframe\">\n",
       "  <thead>\n",
       "    <tr style=\"text-align: right;\">\n",
       "      <th></th>\n",
       "      <th>NAME</th>\n",
       "      <th>C17002_001E</th>\n",
       "      <th>C17002_002E</th>\n",
       "      <th>C17002_003E</th>\n",
       "      <th>B01003_001E</th>\n",
       "      <th>GEOID</th>\n",
       "      <th>Poverty_Rate</th>\n",
       "    </tr>\n",
       "  </thead>\n",
       "  <tbody>\n",
       "    <tr>\n",
       "      <th>0</th>\n",
       "      <td>Census Tract 60, Norfolk city, Virginia</td>\n",
       "      <td>3947.0</td>\n",
       "      <td>284.0</td>\n",
       "      <td>507.0</td>\n",
       "      <td>3947.0</td>\n",
       "      <td>51710006000</td>\n",
       "      <td>20.040537</td>\n",
       "    </tr>\n",
       "    <tr>\n",
       "      <th>1</th>\n",
       "      <td>Census Tract 65.02, Norfolk city, Virginia</td>\n",
       "      <td>3287.0</td>\n",
       "      <td>383.0</td>\n",
       "      <td>480.0</td>\n",
       "      <td>3302.0</td>\n",
       "      <td>51710006502</td>\n",
       "      <td>26.135675</td>\n",
       "    </tr>\n",
       "  </tbody>\n",
       "</table>\n",
       "</div>"
      ],
      "text/plain": [
       "                                         NAME  C17002_001E  C17002_002E  \\\n",
       "0     Census Tract 60, Norfolk city, Virginia       3947.0        284.0   \n",
       "1  Census Tract 65.02, Norfolk city, Virginia       3287.0        383.0   \n",
       "\n",
       "   C17002_003E  B01003_001E        GEOID  Poverty_Rate  \n",
       "0        507.0       3947.0  51710006000     20.040537  \n",
       "1        480.0       3302.0  51710006502     26.135675  "
      ]
     },
     "execution_count": 10,
     "metadata": {},
     "output_type": "execute_result"
    }
   ],
   "source": [
    "# Get poverty rate and store values in new column\n",
    "va_df[\"Poverty_Rate\"] = (va_df[\"C17002_002E\"] + va_df[\"C17002_003E\"]) / va_df[\"B01003_001E\"] * 100\n",
    "\n",
    "# Show dataframe\n",
    "va_df.head(2)"
   ]
  },
  {
   "cell_type": "markdown",
   "metadata": {},
   "source": [
    "## 2. Research Potential Locations:\n",
    "- **Demographics:** Research the demographics of potential areas to ensure they align with your target market\n",
    "- **Competition:** Analyze the competitive landscape in each area to understand the level of competition\n",
    "- **Infrastructure:** Assess the availability of essential infrastructure, such as \n",
    "    - transportation\n",
    "    - utilities\n",
    "    - internet access\n",
    "- **Zoning Laws:** Understand local zoning regulations and restrictions to ensure compliance\n",
    "- **Local Resources:** Explore local government census data or tools like WIGeoLocation for further research  \n",
    "- **Accessibility:** Evaluate the accessibility of the location for both customers and employees\n",
    "- **Traffic:** Consider traffic patterns and parking availability, especially if foot traffic is important "
   ]
  },
  {
   "cell_type": "markdown",
   "metadata": {},
   "source": [
    "## 3. Evaluate and Compare:  \n",
    "- **Visit Potential Locations:** Conduct site visits to assess the suitability of each location firsthand\n",
    "- **Cost Analysis:** Compare the costs of different \n",
    "    - locations\n",
    "    - including rent\n",
    "    - utilities\n",
    "    - taxes  \n",
    "- **Pros and Cons:** Create a list of pros and cons for each potential location to help make a decision\n",
    "- **Long-Term Growth Potential:** Consider the long-term growth potential of the area and its ability to support your business  "
   ]
  },
  {
   "cell_type": "markdown",
   "metadata": {},
   "source": [
    "## 4. Consider Legal and Institutional Factors: \n",
    "- **Business Licenses:** Research the necessary business licenses and permits required for your business type and location. \n",
    "- **Local Regulations:** Understand any local regulations or restrictions that may affect your business operations.\n",
    "- **Government Incentives:** Explore any local or state government incentives or programs that may be available for businesses in specific areas."
   ]
  }
 ],
 "metadata": {
  "kernelspec": {
   "display_name": ".venv",
   "language": "python",
   "name": "python3"
  },
  "language_info": {
   "codemirror_mode": {
    "name": "ipython",
    "version": 3
   },
   "file_extension": ".py",
   "mimetype": "text/x-python",
   "name": "python",
   "nbconvert_exporter": "python",
   "pygments_lexer": "ipython3",
   "version": "3.13.3"
  }
 },
 "nbformat": 4,
 "nbformat_minor": 2
}
