{
 "cells": [
  {
   "cell_type": "markdown",
   "metadata": {},
   "source": [
    "# Strategy in Finding a Business Location\n",
    "\n",
    "To find the best business location, start by analyzing your target market, researching potential areas, and considering factors like accessibility, infrastructure, and zoning regulations.\n",
    "Here's a more detailed strategy:  \n",
    "\n",
    "##  1. Define Your Needs and Goals: \n",
    "- **Target Market:** Identify your ideal customer base and where they are located\n",
    "    - For definition see [this](https://www.investopedia.com/terms/t/target-market.asp#:~:text=Demographic%3A%20These%20are%20the%20main,in%20the%20era%20of%20globalization.)\n",
    "- **Business Type:** Determine if your business requires \n",
    "    - high foot traffic\n",
    "    - proximity to suppliers\n",
    "    - access to specific infrastructure (e.g., highways, rail yards)\n",
    "- **Budget:** Establish a realistic budget for \n",
    "    - rent\n",
    "    - utilities\n",
    "    - other location-related costs"
   ]
  },
  {
   "cell_type": "markdown",
   "metadata": {},
   "source": [
    "### *Target Market Examples*\n",
    "\n",
    "Each dictionary entry includes:\n",
    "- **Description**: A brief overview of the business type.\n",
    "- **Demographics**: Key demographic information relevant to the target market.\n",
    "- **Location**: Geographical considerations, if applicable.\n",
    "- **Interests**: Common interests or behaviors of the target audience.\n",
    "- **Platforms**: Recommended platforms for reaching the target audience.\n",
    "- **Source**: The credible source from which the information was derived.\n",
    "- **URL**: A direct link to the source for further reading.\n",
    "\n",
    "These detailed profiles can assist small businesses in tailoring their marketing strategies to effectively reach their desired audiences."
   ]
  },
  {
   "cell_type": "code",
   "execution_count": null,
   "metadata": {},
   "outputs": [],
   "source": [
    "target_markets_examples = {\n",
    "    \"home_services\": {\n",
    "        \"description\": \"Businesses offering home maintenance and improvement services.\",\n",
    "        \"demographics\": {\n",
    "            \"age_range\": \"35-65\",\n",
    "            \"gender\": \"50% women, 50% men\",\n",
    "            \"homeownership\": \"86% homeowners\",\n",
    "            \"median_income\": 108000\n",
    "        },\n",
    "        \"location\": \"Suburban areas\",\n",
    "        \"interests\": [\"home improvement\", \"DIY projects\", \"family activities\"],\n",
    "        \"platforms\": [\"Google Ads\", \"Facebook\", \"Instagram\"],\n",
    "        \"source\": \"LocaliQ\",\n",
    "        \"url\": \"https://localiq.com/industries/home-services/\"\n",
    "    },\n",
    "    \"healthcare\": {\n",
    "        \"description\": \"Medical professionals and clinics providing healthcare services.\",\n",
    "        \"demographics\": {\n",
    "            \"age_range\": \"25-65\",\n",
    "            \"gender\": \"56% women, 44% men\",\n",
    "            \"household_income\": 91000,\n",
    "            \"has_children\": True\n",
    "        },\n",
    "        \"platforms\": [\"Facebook\", \"Instagram\"],\n",
    "        \"interests\": [\"quality healthcare\", \"family dental care\"],\n",
    "        \"source\": \"LocaliQ\",\n",
    "        \"url\": \"https://localiq.com/industries/healthcare/\"\n",
    "    },\n",
    "    \"luxury_electronics\": {\n",
    "        \"description\": \"Retailers specializing in high-end electronics and gadgets.\",\n",
    "        \"demographics\": {\n",
    "            \"age_range\": \"16-35\",\n",
    "            \"income_level\": \"High disposable income\"\n",
    "        },\n",
    "        \"platforms\": [\"Instagram\", \"TikTok\"],\n",
    "        \"interests\": [\"technology\", \"social media\", \"fashion\"],\n",
    "        \"source\": \"Indeed\",\n",
    "        \"url\": \"https://www.indeed.com/career-advice/career-development/target-market-example\"\n",
    "    },\n",
    "    \"health_and_wellness\": {\n",
    "        \"description\": \"Stores offering natural health products and wellness items.\",\n",
    "        \"demographics\": {\n",
    "            \"age_range\": \"25-55\",\n",
    "            \"gender\": \"Predominantly women\",\n",
    "            \"education\": \"Well-educated\"\n",
    "        },\n",
    "        \"interests\": [\"healthy lifestyle\", \"natural products\", \"family well-being\"],\n",
    "        \"source\": \"Indeed\",\n",
    "        \"url\": \"https://www.indeed.com/career-advice/career-development/target-market-example\"\n",
    "    },\n",
    "    \"organic_farm_shop\": {\n",
    "        \"description\": \"Farm shops selling organic produce and sustainable products.\",\n",
    "        \"demographics\": {\n",
    "            \"age_range\": \"35-55\",\n",
    "            \"income_level\": \"Medium to high\"\n",
    "        },\n",
    "        \"family_status\": \"Families\",\n",
    "        \"location\": \"Rural areas near towns\",\n",
    "        \"interests\": [\"organic food\", \"sustainable living\", \"home delivery services\"],\n",
    "        \"source\": \"Indeed\",\n",
    "        \"url\": \"https://www.indeed.com/career-advice/career-development/target-market-example\"\n",
    "    },\n",
    "    \"cycling_cafe\": {\n",
    "        \"description\": \"Cafés catering to cyclists with quick meals and refreshments.\",\n",
    "        \"demographics\": {\n",
    "            \"age_range\": \"20-55\",\n",
    "            \"income_level\": \"Moderate\"\n",
    "        },\n",
    "        \"interests\": [\"cycling\", \"outdoor activities\", \"quick meals\"],\n",
    "        \"location\": \"Near popular cycling routes\",\n",
    "        \"source\": \"Indeed\",\n",
    "        \"url\": \"https://www.indeed.com/career-advice/career-development/target-market-example\"\n",
    "    },\n",
    "    \"hiking_supply_shop\": {\n",
    "        \"description\": \"Stores selling hiking and running gear and accessories.\",\n",
    "        \"demographics\": {\n",
    "            \"age_range\": \"18-30\",\n",
    "            \"gender\": \"Both men and women\"\n",
    "        },\n",
    "        \"interests\": [\"hiking\", \"running\", \"outdoor adventures\"],\n",
    "        \"values\": [\"Safety\", \"Quality gear\", \"Style\"],\n",
    "        \"platforms\": [\"Instagram\", \"Facebook\"],\n",
    "        \"source\": \"Indeed\",\n",
    "        \"url\": \"https://www.indeed.com/career-advice/career-development/target-market-example\"\n",
    "    },\n",
    "    \"financial_advisory\": {\n",
    "        \"description\": \"Services offering financial planning and advisory.\",\n",
    "        \"demographics\": {\n",
    "            \"age_range\": \"35-50\",\n",
    "            \"income_level\": \"Medium to high\"\n",
    "        },\n",
    "        \"interests\": [\"investment planning\", \"retirement strategies\", \"financial security\"],\n",
    "        \"source\": \"Investopedia\",\n",
    "        \"url\": \"https://www.investopedia.com/articles/financialcareers/07/idea-clients.asp\"\n",
    "    }\n",
    "}\n"
   ]
  },
  {
   "cell_type": "markdown",
   "metadata": {},
   "source": [
    "## 2. Research Potential Locations:\n",
    "- **Demographics:** Research the demographics of potential areas to ensure they align with your target market\n",
    "- **Competition:** Analyze the competitive landscape in each area to understand the level of competition\n",
    "- **Infrastructure:** Assess the availability of essential infrastructure, such as \n",
    "    - transportation\n",
    "    - utilities\n",
    "    - internet access\n",
    "- **Zoning Laws:** Understand local zoning regulations and restrictions to ensure compliance\n",
    "- **Local Resources:** Explore local government census data or tools like WIGeoLocation for further research  \n",
    "- **Accessibility:** Evaluate the accessibility of the location for both customers and employees\n",
    "- **Traffic:** Consider traffic patterns and parking availability, especially if foot traffic is important "
   ]
  },
  {
   "cell_type": "markdown",
   "metadata": {},
   "source": [
    "### Market Analysis\n",
    "Example: Laundromat in Vandergrift, PA"
   ]
  },
  {
   "cell_type": "markdown",
   "metadata": {},
   "source": [
    "- **Demographic Analysis:** Use local census data to understand the demographics of your area. \n",
    "    - Look for age distributions, income levels, and household sizes that match the typical profile of a user (for our example laundromat user).\n",
    "- **Psychographic Information:** Go beyond basic demographics to explore customer lifestyles, values, and habits. \n",
    "\n",
    "For instance, are there large groups of environmentally conscious consumers in your area who might appreciate eco-friendly laundry solutions?"
   ]
  },
  {
   "cell_type": "code",
   "execution_count": null,
   "metadata": {},
   "outputs": [],
   "source": [
    "# Import modules\n",
    "import matplotlib.pyplot as plt\n",
    "import pandas as pd\n",
    "from census import Census\n",
    "from us import states\n",
    "import requests\n",
    "from typing import Dict, Optional\n",
    "import json\n",
    "from pathlib import Path\n",
    "import zipcodes\n",
    "import addfips\n",
    "from sklearn.preprocessing import MinMaxScaler\n",
    "\n",
    "\n",
    "# Created modules\n",
    "from ipython_config import CENSUS_KEY\n"
   ]
  },
  {
   "cell_type": "code",
   "execution_count": null,
   "metadata": {},
   "outputs": [],
   "source": [
    "# Coin-Operated Laundries and Drycleaners for all years!\n",
    "NAICS = '812310'\n",
    "\n",
    "# Vandergrift, PA\n",
    "ZIPCODE = '15690'\n",
    "\n",
    "state = states.PA\n",
    "STATEFIPS = state.fips\n",
    "STATENAME = state.name\n",
    "\n",
    "result = zipcodes.matching(ZIPCODE)[0]\n",
    "COUNTYNAME = result['county']\n",
    "\n",
    "af = addfips.AddFIPS()\n",
    "\n",
    "# Get FIPS code for a single county\n",
    "COUNTYFIP = af.get_county_fips(county=COUNTYNAME, state=STATENAME)\n",
    "COUNTYCODE = COUNTYFIP[2:]\n",
    "\n",
    "print(f\"\"\"\n",
    "NAICS: {NAICS}\n",
    "ZIPCODE: {ZIPCODE}\n",
    "STATEFIPS: {STATEFIPS}\n",
    "STATENAME: {STATENAME}\n",
    "COUNTYNAME: {COUNTYNAME} \n",
    "COUNTYFIP: {COUNTYFIP}  \n",
    "COUNTYCODE: {COUNTYCODE}\n",
    "\"\"\")"
   ]
  },
  {
   "cell_type": "markdown",
   "metadata": {},
   "source": [
    "## Locate & Analyze Customers and Market with **Census Business Builder**\n",
    "- [Video How-To](https://www.census.gov/data/academy/data-gems/2023/locate-analyze-customers-market-with-cbb.html)\n",
    "- [Census Business Builder](https://cbb.census.gov/cbb/)"
   ]
  },
  {
   "cell_type": "code",
   "execution_count": null,
   "metadata": {},
   "outputs": [],
   "source": [
    "for key, value in result.items():\n",
    "    print(f'{key.replace('_', '').upper()}: {value}')"
   ]
  },
  {
   "cell_type": "markdown",
   "metadata": {},
   "source": [
    "## API's For Small Business Statistics\n",
    "- Nonemployer Statistics\n",
    "- Business Patterns County Business Patterns\n",
    "- Economic Census"
   ]
  },
  {
   "cell_type": "markdown",
   "metadata": {},
   "source": [
    "## Annual Business Survey (ABS) Data"
   ]
  },
  {
   "cell_type": "code",
   "execution_count": null,
   "metadata": {},
   "outputs": [],
   "source": [
    "# Nonemployer Statistics\n",
    "\n",
    "nonemp_params = {\n",
    "    'variables' : \"\",\n",
    "    'geography': f\"county:{COUNTYCODE}&in=state:{STATEFIPS}\",\n",
    "    'api_key': CENSUS_KEY,\n",
    "    'dataset_base': 'nonemp',\n",
    "    'year': ''\n",
    "}"
   ]
  },
  {
   "cell_type": "code",
   "execution_count": null,
   "metadata": {},
   "outputs": [],
   "source": [
    "# Business Patterns County Business Patterns\n",
    "\n",
    "cbp_params = {\n",
    "    'variables' : \"\",\n",
    "    'geography': f\"county:{COUNTYCODE}&in=state:{STATEFIPS}\",\n",
    "    'api_key': CENSUS_KEY,\n",
    "    'dataset_base': 'cbp',\n",
    "    'year': ''\n",
    "}\n"
   ]
  },
  {
   "cell_type": "code",
   "execution_count": null,
   "metadata": {},
   "outputs": [],
   "source": [
    "\n",
    "# Economic Census\n",
    "\n",
    "ecnbasic_params = {\n",
    "    'variables' : \"\",\n",
    "    'geography': f\"county:{COUNTYCODE}&in=state:{STATEFIPS}\",\n",
    "    'api_key': CENSUS_KEY,\n",
    "    'dataset_base': 'ecnbasic',\n",
    "    'year': ''\n",
    "}"
   ]
  },
  {
   "cell_type": "code",
   "execution_count": null,
   "metadata": {},
   "outputs": [],
   "source": [
    "# ACS 1-Year Estimates\n",
    "\n",
    "acs1_params = {\n",
    "    'variables' : \"\",\n",
    "    'geography': f\"county:{COUNTYCODE}&in=state:{STATEFIPS}\",\n",
    "    'api_key': CENSUS_KEY,\n",
    "    'dataset_base': 'acs/acs1',\n",
    "    'year': ''\n",
    "}"
   ]
  },
  {
   "cell_type": "code",
   "execution_count": null,
   "metadata": {},
   "outputs": [],
   "source": [
    "# ACS 5-Year Estimates\n",
    "\n",
    "acs5_params = {\n",
    "    'variables' : \"\",\n",
    "    'geography': f\"tract:*&in=state:{STATEFIPS}&in=county:{COUNTYCODE}\",\n",
    "    'api_key': CENSUS_KEY,\n",
    "    'dataset_base': 'acs/acs5',\n",
    "    'year': ''\n",
    "}"
   ]
  },
  {
   "cell_type": "code",
   "execution_count": null,
   "metadata": {},
   "outputs": [],
   "source": [
    "import pandas as pd\n",
    "from IPython.display import display\n",
    "\n",
    "\n",
    "def get_data(abs_params):\n",
    "    \"\"\"\n",
    "    Get data from the Cenus Bureau API\n",
    "    \n",
    "    Parameters:\n",
    "    - variables: Comma-separated string of variable names\n",
    "    - geography: Geographic level (default: national level)\n",
    "    - api_key: Your Census Bureau API key\n",
    "    \"\"\"\n",
    "    base_url = \"https://api.census.gov/data\"\n",
    "    year = abs_params['year']\n",
    "    dataset = abs_params['dataset_base']\n",
    "    variables = abs_params['variables']\n",
    "    geography = abs_params['geography']\n",
    "    api_key = abs_params['api_key']\n",
    "    \n",
    "    # Construct the full URL\n",
    "    url = f\"{base_url}/{year}/{dataset}?get={variables}&for={geography}\"\n",
    "    print(url)\n",
    "    \n",
    "    if api_key:\n",
    "        url += f\"&key={api_key}\"\n",
    "        \n",
    "    response = requests.get(url)\n",
    "    \n",
    "    if response.status_code == 200:\n",
    "        return response.json()\n",
    "    else:\n",
    "        raise Exception(f\"Failed to retrieve data for year {year}. Status code: {response}\") \n",
    "\n",
    "def get_all_business_code_table(df, naics_code, naics_colum):\n",
    "    n = len(naics_code)\n",
    "    full_list = []\n",
    "    for i in range(n):\n",
    "\n",
    "        naics_temp = naics_code[:i]\n",
    "        naics_table = df[(df[naics_colum]==naics_temp)]\n",
    "\n",
    "        if naics_table.shape[0]:\n",
    "            full_list.append(naics_table)\n",
    "        \n",
    "    full_df = pd.concat(full_list)\n",
    "    return  full_df"
   ]
  },
  {
   "cell_type": "code",
   "execution_count": null,
   "metadata": {},
   "outputs": [],
   "source": [
    "# nonemp_all_years = []\n",
    "# for i in range(2017, 2026):\n",
    "\n",
    "#     print(f'begin year {i}')\n",
    "\n",
    "#     naics_year = 2022 if i >= 2022 else 2017\n",
    "\n",
    "#     nonemp_params['year'] = i\n",
    "#     nonemp_params['variables'] = f'NAME,COUNTY,NAICS{naics_year},NAICS{naics_year}_LABEL,NESTAB,NRCPTOT,NRCPTOT_N,RCPSZES,YEAR'\n",
    "\n",
    "#     try:\n",
    "#         nonemp = pd.DataFrame(get_data(nonemp_params))\n",
    "#         nonemp.columns = nonemp.iloc[0]\n",
    "#         nonemp = nonemp.iloc[1:]\n",
    "\n",
    "#         naics_nonemp = get_all_business_code_table(nonemp, NAICS, f'NAICS{naics_year}')\n",
    "        \n",
    "#         nonemp_all_years.append(naics_nonemp)\n",
    "        \n",
    "#     except:\n",
    "#         pass\n",
    "\n",
    "#     print(f'finished year {i}')"
   ]
  },
  {
   "cell_type": "code",
   "execution_count": null,
   "metadata": {},
   "outputs": [],
   "source": [
    "# nonemp_all_years = pd.concat(nonemp_all_years)\n",
    "# display(nonemp_all_years)"
   ]
  },
  {
   "cell_type": "code",
   "execution_count": null,
   "metadata": {},
   "outputs": [],
   "source": [
    "# cbp_all_years = []\n",
    "# for i in range(2017, 2026):\n",
    "\n",
    "#     print(f'begin year {i}')\n",
    "\n",
    "#     naics_year = 2022 if i > 2022 else 2017\n",
    "\n",
    "#     cbp_params['year'] = i\n",
    "#     cbp_params['variables'] = f\"NAME,CBSA,CD,COUNTY,CSA,EMP,EMP_N,EMPSZES_LABEL,ESTAB,NAICS{naics_year},NAICS{naics_year}_LABEL,PAYANN,PAYANN_N,PAYQTR1,PAYQTR1_N,YEAR\"\n",
    "\n",
    "#     try:\n",
    "#         cbp = pd.DataFrame(get_data(cbp_params))\n",
    "#         cbp.columns = cbp.iloc[0]\n",
    "#         cbp = cbp.iloc[1:]\n",
    "\n",
    "#         naics_cbp = get_all_business_code_table(cbp, NAICS, f'NAICS{naics_year}')\n",
    "        \n",
    "#         cbp_all_years.append(naics_cbp)\n",
    "#     except:\n",
    "#         pass\n",
    "    \n",
    "#     print(f'finished year {i}')"
   ]
  },
  {
   "cell_type": "code",
   "execution_count": null,
   "metadata": {},
   "outputs": [],
   "source": [
    "# cbp_all_years = pd.concat(cbp_all_years)\n",
    "# display(cbp_all_years)"
   ]
  },
  {
   "cell_type": "code",
   "execution_count": null,
   "metadata": {},
   "outputs": [],
   "source": [
    "# ecnbasic_all_years = []\n",
    "# for i in range(2017, 2026):\n",
    "\n",
    "#     print(f'begin year {i}')\n",
    "\n",
    "#     naics_year = 2022 if i >= 2022 else 2017\n",
    "\n",
    "#     ecnbasic_params['year'] = i\n",
    "#     ecnbasic_params['variables'] = f\"NAME,CBSA,CD,COUNTY,CSA,EMP,EMP_N,EMPSZES_LABEL,ESTAB,NAICS{naics_year},NAICS{naics_year}_LABEL,PAYANN,PAYANN_N,PAYQTR1,PAYQTR1_N,YEAR,ZIPCODE\"\n",
    "#     try:\n",
    "#         ecnbasic = pd.DataFrame(get_data(ecnbasic_params))\n",
    "#         ecnbasic.columns = ecnbasic.iloc[0]\n",
    "#         ecnbasic = ecnbasic.iloc[1:]\n",
    "\n",
    "#         naics_ecnbasic = get_all_business_code_table(ecnbasic, NAICS, f'NAICS{naics_year}')\n",
    "        \n",
    "#         ecnbasic_all_years.append(naics_ecnbasic)\n",
    "#     except:\n",
    "#         pass\n",
    "\n",
    "#     print(f'finished year {i}')"
   ]
  },
  {
   "cell_type": "code",
   "execution_count": null,
   "metadata": {},
   "outputs": [],
   "source": [
    "# ecnbasic_all_years = pd.concat(ecnbasic_all_years)\n",
    "# display(ecnbasic_all_years)"
   ]
  },
  {
   "cell_type": "code",
   "execution_count": null,
   "metadata": {},
   "outputs": [],
   "source": [
    "# acs1_all_years = []\n",
    "# for i in range(2017, 2026):\n",
    "\n",
    "#     print(f'begin year {i}')\n",
    "\n",
    "#     acs1_params['year'] = i\n",
    "#     acs1_params['variables'] = \"NAME,B19013_001E\" # NAME = geography name, B19013_001E = median household income\n",
    "#     try:\n",
    "#         acs1 = pd.DataFrame(get_data(acs1_params))\n",
    "#         acs1.columns = acs1.iloc[0]\n",
    "#         acs1 = acs1.iloc[1:]     \n",
    "#         acs1['year'] = i   \n",
    "#         acs1_all_years.append(acs1)\n",
    "#     except:\n",
    "#         pass\n",
    "\n",
    "#     print(f'finished year {i}')\n",
    "\n",
    "# acs1_all_years = pd.concat(acs1_all_years)"
   ]
  },
  {
   "cell_type": "code",
   "execution_count": null,
   "metadata": {},
   "outputs": [],
   "source": [
    "# acs1_all_years.rename(columns={\n",
    "#     'B19013_001E': 'median household income'\n",
    "# }, inplace=True)\n",
    "\n",
    "# acs1_all_years[\"median household income\"] = pd.to_numeric(acs1_all_years[\"median household income\"])\n",
    "\n",
    "# # ESTIMATE: Use a flat 20% tax rate (can vary, ideally you'd have better tax data)\n",
    "# acs1_all_years[\"Estimated_Taxes\"] = acs1_all_years[\"median household income\"] * 0.20\n",
    "# acs1_all_years[\"Disposable_Income\"] = acs1_all_years[\"B19013_001E\"] - acs1_all_years[\"Estimated_Taxes\"]\n",
    "\n",
    "# display(acs1_all_years)"
   ]
  },
  {
   "cell_type": "code",
   "execution_count": null,
   "metadata": {},
   "outputs": [],
   "source": [
    "acs5_all_years = []\n",
    "for i in range(2017, 2026):\n",
    "\n",
    "    print(f'begin year {i}')\n",
    "    \n",
    "    acs5_params['year'] = i\n",
    "    acs5_params['variables'] = \"NAME,B01003_001E,B19013_001E,B01002_001E,B15003_022E,B15003_023E,B15003_024E,B15003_025E,B01001_011E,B01001_012E,B01001_035E,B01001_036E,B19083_001E,C02003_008E,C02003_004E,C02003_003E,C02003_007E,C02003_006E,C02003_005E\" \n",
    "    try:\n",
    "        acs5 = pd.DataFrame(get_data(acs5_params))\n",
    "        acs5.columns = acs5.iloc[0]\n",
    "        acs5 = acs5.iloc[1:]     \n",
    "        acs5['year'] = i    \n",
    "        acs5_all_years.append(acs5)\n",
    "    except:\n",
    "        pass\n",
    "\n",
    "    print(f'finished year {i}')\n",
    "\n",
    "acs5_all_years = pd.concat(acs5_all_years)"
   ]
  },
  {
   "cell_type": "code",
   "execution_count": null,
   "metadata": {},
   "outputs": [],
   "source": [
    "# import requests\n",
    "\n",
    "# def download_census_variables(url):\n",
    "#     try:\n",
    "#         # Send GET request\n",
    "#         response = requests.get(url)\n",
    "        \n",
    "#         # Check if the request was successful\n",
    "#         response.raise_for_status()\n",
    "        \n",
    "#         # Save the JSON content to a file\n",
    "#         with open('data/variables.json', 'wb') as file:\n",
    "#             file.write(response.content)\n",
    "            \n",
    "#         print(\"Successfully downloaded variables.json\")\n",
    "        \n",
    "#     except requests.exceptions.HTTPError as http_err:\n",
    "#         print(f'HTTP Error occurred: {http_err}')\n",
    "#     except Exception as err:\n",
    "#         print(f'Other error occurred: {err}')\n",
    "\n",
    "# # Download the variables file\n",
    "# url = \"https://api.census.gov/data/2023/acs/acs5/variables.json\"\n",
    "# download_census_variables(url)"
   ]
  },
  {
   "cell_type": "code",
   "execution_count": null,
   "metadata": {},
   "outputs": [],
   "source": [
    "import json\n",
    "\n",
    "# Open and read the JSON file\n",
    "with open('data/acs5_variables.json', 'r') as file:\n",
    "    data = json.load(file)\n",
    "\n",
    "# Print the data\n",
    "acs5_variable = pd.DataFrame(data['variables']).T.reset_index()"
   ]
  },
  {
   "cell_type": "code",
   "execution_count": null,
   "metadata": {},
   "outputs": [],
   "source": [
    "acs5_variable.head(10)"
   ]
  },
  {
   "cell_type": "code",
   "execution_count": null,
   "metadata": {},
   "outputs": [],
   "source": [
    "for row in acs5_variable[acs5_variable['index'].isin(['C17002_002E', 'C17002_003E', 'B01003_001E'])][['index','label', 'concept']].iterrows():\n",
    "    id, series = row\n",
    "    print(f\"'{series['index']}': '{series['label']} {series['concept']}',\")"
   ]
  },
  {
   "cell_type": "code",
   "execution_count": null,
   "metadata": {},
   "outputs": [],
   "source": [
    "# Show the dataframe\n",
    "print('Shape: ', acs5_all_years.shape)\n",
    "\n",
    "# Check column data types for census data\n",
    "print(\"Column data types for census data:\\n{}\".format(acs5_all_years.dtypes))\n",
    "\n",
    "acs5_all_years[['C17002_002E', 'C17002_003E', 'B01003_001E']] = acs5_all_years[['C17002_002E', 'C17002_003E', 'B01003_001E']].astype(float)\n",
    "\n",
    "# Source: https://pandas.pydata.org/pandas-docs/stable/reference/api/pandas.DataFrame.dtypes.html\n",
    "# Get poverty rate and store values in new column\n",
    "acs5_all_years[\"Poverty_Rate\"] = (acs5_all_years[\"C17002_002E\"] + acs5_all_years[\"C17002_003E\"]) / acs5_all_years[\"B01003_001E\"] * 100\n",
    "\n",
    "# Show dataframe\n",
    "display(acs5_all_years[['NAME', 'Poverty_Rate']])"
   ]
  },
  {
   "cell_type": "code",
   "execution_count": null,
   "metadata": {},
   "outputs": [],
   "source": [
    "# for row in acs5_variable[acs5_variable['label'].str.contains('one race')][['index','label']].iterrows():\n",
    "#     id, series = row\n",
    "#     print(f\"'{series['index']}': '{series['label']}',\")"
   ]
  },
  {
   "cell_type": "code",
   "execution_count": null,
   "metadata": {},
   "outputs": [],
   "source": [
    "# Rename columns for clarity\n",
    "acs5_all_years.rename(columns={\n",
    "    'NAME': 'County',\n",
    "    'B01003_001E': 'Population',\n",
    "    'B19013_001E': 'Median_Income',\n",
    "    'B01002_001E': 'Median_Age',\n",
    "    'B15003_022E': 'Bachelors',\n",
    "    'B15003_023E': 'Masters',\n",
    "    'B15003_024E': 'Professional',\n",
    "    'B15003_025E': 'Doctorate',\n",
    "    'B01001_011E': 'M_25_29', \n",
    "    'B01001_012E': 'M_30_34',\n",
    "    'B01001_035E': 'F_25_29', \n",
    "    'B01001_036E': 'F_30_34',\n",
    "    'B19083_001E': 'Gini_Index',\n",
    "    'C02003_008E': 'Other',\n",
    "    'C02003_004E': 'Black',\n",
    "    'C02003_003E': 'White',\n",
    "    'C02003_007E': 'Native_Hawaiian_and_Other_Pacific_Islander',\n",
    "    'C02003_006E': 'Asian',\n",
    "    'C02003_005E': 'American_Indian_and_Alaska_Native',\n",
    "}, inplace=True)\n",
    "\n",
    "# Convert numerical columns\n",
    "acs5_all_years['Population'] = pd.to_numeric(acs5_all_years['Population'])\n",
    "acs5_all_years['Median_Income'] = pd.to_numeric(acs5_all_years['Median_Income'])\n",
    "acs5_all_years['Gini_Index'] = pd.to_numeric(acs5_all_years['B19083_001E'])\n",
    "acs5_all_years['Edu_High'] = acs5_all_years['Bachelors'].astype(int) + acs5_all_years['Masters'].astype(int) + acs5_all_years['Professional'].astype(int) + acs5_all_years['Doctorate'].astype(int)\n",
    "acs5_all_years['Edu_Rate'] = (acs5_all_years['Edu_High'] / acs5_all_years['Population']) * 100\n",
    "\n",
    "acs5_all_years['Median_Age'] = pd.to_numeric(acs5_all_years['Median_Age'])\n",
    "\n",
    "# Example: % of people aged 25–44 (prime working/spending age)\n",
    "acs5_all_years['Age_25_34'] = acs5_all_years['M_25_29'].astype(int) + acs5_all_years['M_30_34'].astype(int) + acs5_all_years['F_25_29'].astype(int) + acs5_all_years['F_30_34'].astype(int)\n",
    "acs5_all_years['Age_25_34_Pct'] = (acs5_all_years['Age_25_34'] / acs5_all_years['Population']) * 100\n",
    "\n",
    "# Simpson's Diversity Index example:\n",
    "ethnic_cols = ['Other', 'Black', 'Native_Hawaiian_and_Other_Pacific_Islander', 'Asian', 'White', 'American_Indian_and_Alaska_Native']\n",
    "ethnic_shares = acs5_all_years[ethnic_cols].div(acs5_all_years['Population'], axis=0)\n",
    "acs5_all_years['Diversity_Index'] = 1 - (ethnic_shares ** 2).sum(axis=1)\n",
    "\n",
    "# Normalize scores\n",
    "scaler = MinMaxScaler()\n",
    "features = ['Population', 'Median_Income', 'Edu_Rate', 'Diversity_Index', 'Age_25_34_Pct']\n",
    "acs5_all_years_scaled = pd.DataFrame(scaler.fit_transform(acs5_all_years[features]), columns=features)\n",
    "\n",
    "# Weighted score\n",
    "acs5_all_years['Score'] = (0.25 * acs5_all_years_scaled['Population'] +\n",
    "               0.25 * acs5_all_years_scaled['Median_Income'] +\n",
    "               0.20 * acs5_all_years_scaled['Edu_Rate'] +\n",
    "               0.15 * acs5_all_years_scaled['Diversity_Index'] +\n",
    "               0.15 * acs5_all_years_scaled['Age_25_44_Pct'])\n",
    "\n",
    "# Sort by Median Income (for example)\n",
    "top_counties = acs5_all_years[acs5_all_years['year'] == 2023].sort_values(by='Median_Income', ascending=False).head(10)\n",
    "display(top_counties[['County', 'Population', 'Median_Income', 'Gini_Index', 'Edu_High', 'Edu_Rate', 'Median_Age', 'Age_25_34_Pct', 'Score', 'year']])\n"
   ]
  },
  {
   "cell_type": "code",
   "execution_count": null,
   "metadata": {},
   "outputs": [],
   "source": [
    "# Population growth = (New - Old) / Old * 100\n",
    "# acs5_all_years['Pop_Growth_Rate'] = ((acs5_all_years['Population_2021'] - acs5_all_years['Population_2010']) / acs5_all_years['Population_2010']) * 100"
   ]
  },
  {
   "cell_type": "code",
   "execution_count": null,
   "metadata": {},
   "outputs": [],
   "source": [
    "# Helps identify competition or opportunity.\n",
    "# acs5_all_years['Business_Density'] = acs5_all_years['Number_of_Businesses'] / acs5_all_years['Population'] * 1000"
   ]
  },
  {
   "cell_type": "code",
   "execution_count": null,
   "metadata": {},
   "outputs": [],
   "source": [
    "# acs5_all_years['Unemployment_Rate'] = (acs5_all_years['Unemployed'] / acs5_all_years['Labor_Force']) * 100"
   ]
  },
  {
   "cell_type": "markdown",
   "metadata": {},
   "source": [
    "### Optional Next Steps:\n",
    "- Use geopandas to map this data geographically.\n",
    "- Add business data using sources like Yelp API or Google Places API for competitor analysis.\n",
    "- Use clustering (sklearn) to group similar counties/tracts."
   ]
  },
  {
   "cell_type": "markdown",
   "metadata": {},
   "source": [
    "## 3. Evaluate and Compare:  \n",
    "- **Visit Potential Locations:** Conduct site visits to assess the suitability of each location firsthand\n",
    "- **Cost Analysis:** Compare the costs of different \n",
    "    - locations\n",
    "    - including rent\n",
    "    - utilities\n",
    "    - taxes  \n",
    "- **Pros and Cons:** Create a list of pros and cons for each potential location to help make a decision\n",
    "- **Long-Term Growth Potential:** Consider the long-term growth potential of the area and its ability to support your business  "
   ]
  },
  {
   "cell_type": "markdown",
   "metadata": {},
   "source": [
    "## 4. Consider Legal and Institutional Factors: \n",
    "- **Business Licenses:** Research the necessary business licenses and permits required for your business type and location. \n",
    "- **Local Regulations:** Understand any local regulations or restrictions that may affect your business operations.\n",
    "- **Government Incentives:** Explore any local or state government incentives or programs that may be available for businesses in specific areas."
   ]
  }
 ],
 "metadata": {
  "kernelspec": {
   "display_name": ".venv",
   "language": "python",
   "name": "python3"
  },
  "language_info": {
   "codemirror_mode": {
    "name": "ipython",
    "version": 3
   },
   "file_extension": ".py",
   "mimetype": "text/x-python",
   "name": "python",
   "nbconvert_exporter": "python",
   "pygments_lexer": "ipython3",
   "version": "3.13.3"
  }
 },
 "nbformat": 4,
 "nbformat_minor": 2
}
