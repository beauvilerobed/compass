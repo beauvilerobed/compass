{
 "cells": [
  {
   "cell_type": "markdown",
   "metadata": {},
   "source": [
    "# Strategy in Finding a Business Location\n",
    "\n",
    "To find the best business location, start by analyzing your target market, researching potential areas, and considering factors like accessibility, infrastructure, and zoning regulations.\n",
    "Here's a more detailed strategy:  \n",
    "\n",
    "##  1. Define Your Needs and Goals: \n",
    "- **Target Market:** Identify your ideal customer base and where they are located\n",
    "    - For definition see [this](https://www.investopedia.com/terms/t/target-market.asp#:~:text=Demographic%3A%20These%20are%20the%20main,in%20the%20era%20of%20globalization.)\n",
    "- **Business Type:** Determine if your business requires \n",
    "    - high foot traffic\n",
    "    - proximity to suppliers\n",
    "    - access to specific infrastructure (e.g., highways, rail yards)\n",
    "- **Budget:** Establish a realistic budget for \n",
    "    - rent\n",
    "    - utilities\n",
    "    - other location-related costs\n",
    "- **Brand Image:** Consider how the location will impact your brand's image and customer perception"
   ]
  },
  {
   "cell_type": "markdown",
   "metadata": {},
   "source": [
    "### Market Analysis\n",
    "Example: Laundromat in Vandergrift, PA"
   ]
  },
  {
   "cell_type": "markdown",
   "metadata": {},
   "source": [
    "- **Demographic Analysis:** Use local census data to understand the demographics of your area. \n",
    "    - Look for age distributions, income levels, and household sizes that match the typical profile of a user (for our example laundromat user).\n",
    "- **Psychographic Information:** Go beyond basic demographics to explore customer lifestyles, values, and habits. \n",
    "\n",
    "For instance, are there large groups of environmentally conscious consumers in your area who might appreciate eco-friendly laundry solutions?"
   ]
  },
  {
   "cell_type": "code",
   "execution_count": null,
   "metadata": {},
   "outputs": [],
   "source": [
    "# Import modules\n",
    "import matplotlib.pyplot as plt\n",
    "import pandas as pd\n",
    "from census import Census\n",
    "from us import states\n",
    "import requests\n",
    "from typing import Dict, Optional\n",
    "import json\n",
    "from pathlib import Path\n",
    "import zipcodes\n",
    "import addfips\n",
    "\n",
    "\n",
    "# Created modules\n",
    "from ipython_config import CENSUS_KEY\n"
   ]
  },
  {
   "cell_type": "code",
   "execution_count": null,
   "metadata": {},
   "outputs": [],
   "source": [
    "# Set API key\n",
    "c = Census(CENSUS_KEY)"
   ]
  },
  {
   "cell_type": "code",
   "execution_count": null,
   "metadata": {},
   "outputs": [],
   "source": [
    "# Coin-Operated Laundries and Drycleaners\n",
    "NAICS = '812310'\n",
    "# Vandergrift, PA\n",
    "ZIPCODE = '15690'\n",
    "\n",
    "state = states.PA\n",
    "STATEFIPS = state.fips\n",
    "STATENAME = state.name\n",
    "\n",
    "result = zipcodes.matching(ZIPCODE)[0]\n",
    "COUNTYNAME = result['county']\n",
    "\n",
    "af = addfips.AddFIPS()\n",
    "\n",
    "# Get FIPS code for a single county\n",
    "COUNTYFIP = af.get_county_fips(county=COUNTYNAME, state=STATENAME)\n",
    "COUNTYCODE = COUNTYFIP[2:]\n",
    "\n",
    "print(f\"\"\"\n",
    "NAICS: {NAICS}\n",
    "ZIPCODE: {ZIPCODE}\n",
    "STATEFIPS: {STATEFIPS}\n",
    "STATENAME: {STATENAME}\n",
    "COUNTYNAME: {COUNTYNAME} \n",
    "COUNTYFIP: {COUNTYFIP}  \n",
    "COUNTYCODE: {COUNTYCODE}\n",
    "\"\"\")"
   ]
  },
  {
   "cell_type": "markdown",
   "metadata": {},
   "source": [
    "## Locate & Analyze Customers and Market with **Census Business Builder**\n",
    "- [Video How-To](https://www.census.gov/data/academy/data-gems/2023/locate-analyze-customers-market-with-cbb.html)\n",
    "- [Census Business Builder](https://cbb.census.gov/cbb/)"
   ]
  },
  {
   "cell_type": "code",
   "execution_count": null,
   "metadata": {},
   "outputs": [],
   "source": [
    "for key, value in result.items():\n",
    "    print(f'{key.replace('_', '').upper()}: {value}')"
   ]
  },
  {
   "cell_type": "markdown",
   "metadata": {},
   "source": [
    "### Poverty Rate by Tract (County and State specified)"
   ]
  },
  {
   "cell_type": "code",
   "execution_count": null,
   "metadata": {},
   "outputs": [],
   "source": [
    "# Obtain Census variables from the 2019 ACS at the tract level for the Commonwealth of Virginia (FIPS code: 51)\n",
    "# C17002_001E: count of ratio of income to poverty in the past 12 months (total)\n",
    "# C17002_002E: count of ratio of income to poverty in the past 12 months (< 0.50)\n",
    "# C17002_003E: count of ratio of income to poverty in the past 12 months (0.50 - 0.99)\n",
    "# B01003_001E: total population\n",
    "# Sources: https://api.census.gov/data/2019/acs/acs5/variables.html; https://pypi.org/project/census/\n",
    "census = c.acs5.state_county_tract(fields = ('NAME', 'C17002_001E', 'C17002_002E', 'C17002_003E', 'B01003_001E'),\n",
    "                                      state_fips = STATEFIPS,\n",
    "                                      county_fips = COUNTYCODE,\n",
    "                                      tract = \"*\",\n",
    "                                      year = 2022)"
   ]
  },
  {
   "cell_type": "code",
   "execution_count": null,
   "metadata": {},
   "outputs": [],
   "source": [
    "# Create a dataframe from the census data\n",
    "df = pd.DataFrame(census)\n",
    "\n",
    "# Show the dataframe\n",
    "print('Shape: ', df.shape)"
   ]
  },
  {
   "cell_type": "code",
   "execution_count": null,
   "metadata": {},
   "outputs": [],
   "source": [
    "df.head()"
   ]
  },
  {
   "cell_type": "code",
   "execution_count": null,
   "metadata": {},
   "outputs": [],
   "source": [
    "# Combine state, county, and tract columns together to create a new string and assign to new column\n",
    "df[\"GEOID\"] = df[\"state\"] + df[\"county\"] + df[\"tract\"]"
   ]
  },
  {
   "cell_type": "code",
   "execution_count": null,
   "metadata": {},
   "outputs": [],
   "source": [
    "# Remove columns\n",
    "df = df.drop(columns = [\"state\", \"county\", \"tract\"])\n",
    "\n",
    "# Show updated dataframe\n",
    "df.head(2)"
   ]
  },
  {
   "cell_type": "code",
   "execution_count": null,
   "metadata": {},
   "outputs": [],
   "source": [
    "# Check column data types for census data\n",
    "print(\"Column data types for census data:\\n{}\".format(df.dtypes))\n",
    "\n",
    "# Source: https://pandas.pydata.org/pandas-docs/stable/reference/api/pandas.DataFrame.dtypes.html"
   ]
  },
  {
   "cell_type": "code",
   "execution_count": null,
   "metadata": {},
   "outputs": [],
   "source": [
    "# Get poverty rate and store values in new column\n",
    "df[\"Poverty_Rate\"] = (df[\"C17002_002E\"] + df[\"C17002_003E\"]) / df[\"B01003_001E\"] * 100\n",
    "\n",
    "# Show dataframe\n",
    "df[['NAME', 'Poverty_Rate']].head()"
   ]
  },
  {
   "cell_type": "markdown",
   "metadata": {},
   "source": [
    "## API's For Small Business Statistics\n",
    "- Nonemployer Statistics\n",
    "- Business Patterns County Business Patterns\n",
    "- ECN Core Statistics Summary Statistics for the U.S., States, and Selected Geographies: 2017\n",
    "- Business Patterns County Business Patterns"
   ]
  },
  {
   "cell_type": "markdown",
   "metadata": {},
   "source": [
    "## Annual Business Survey (ABS) Data"
   ]
  },
  {
   "cell_type": "code",
   "execution_count": null,
   "metadata": {},
   "outputs": [],
   "source": [
    "# Company Summary\n",
    "\n",
    "abscs_params = {\n",
    "    'variables' : \"NAME,CBSA,COUNTY,CSA,ECPLACE,EMP,EMP_S,ETH_GROUP_LABEL,FIRMPDEMP,FIRMPDEMP_S,NAICS2022,NAICS2022_LABEL,PAYANN,PAYANN_S,RACE_GROUP_LABEL,RCPPDEMP,RCPPDEMP_S,SEX_LABEL,URSZFI_LABEL,VET_GROUP_LABEL,YEAR,YIBSZFI_LABEL\",\n",
    "    'geography': f\"county:{COUNTYCODE}&in=state:{STATEFIPS}\",\n",
    "    'api_key': CENSUS_KEY,\n",
    "    'dataset_base': 'abscs',\n",
    "    'year': '2022'\n",
    "}"
   ]
  },
  {
   "cell_type": "code",
   "execution_count": null,
   "metadata": {},
   "outputs": [],
   "source": [
    "# Characteristics of Businesses\n",
    "\n",
    "abscb_params = {\n",
    "    'variables' : \"\"\"GEO_ID,NAME,NAICS2022,NAICS2022_LABEL,YEAR,FIRMPDEMP,FIRMPDEMP_PCT,RCPPDEMP,RCPPDEMP_PCT,EMP,EMP_PCT,PAYANN,PAYANN_PCT,FIRMPDEMP_PCT_S,RCPPDEMP_S,RCPPDEMP_PCT_S,EMP_S,EMP_PCT_S\"\"\",\n",
    "    'geography': f\"county:{COUNTYCODE}&in=state:{STATEFIPS}\",\n",
    "    'api_key': CENSUS_KEY,\n",
    "    'dataset_base': 'abscb',\n",
    "    'year': '2022'\n",
    "}\n"
   ]
  },
  {
   "cell_type": "code",
   "execution_count": null,
   "metadata": {},
   "outputs": [],
   "source": [
    "\n",
    "# Characteristics of Business Owners\n",
    "abscbo_params = {\n",
    "    'variables' : \"\"\"GEO_ID,NAME,NAICS2022,NAICS2022_LABEL,OWNER_SEX,OWNER_SEX_LABEL,OWNER_ETH,OWNER_ETH_LABEL,OWNER_RACE,OWNER_RACE_LABEL,OWNER_VET,OWNER_VET_LABEL,YEAR\"\"\",\n",
    "    'geography': f\"county:{COUNTYCODE}&in=state:{STATEFIPS}\",\n",
    "    'api_key': CENSUS_KEY,\n",
    "    'dataset_base': 'abscbo',\n",
    "    'year': '2022'\n",
    "}"
   ]
  },
  {
   "cell_type": "code",
   "execution_count": null,
   "metadata": {},
   "outputs": [],
   "source": [
    "# Module Business Characteristics\n",
    "absmcb_params = {\n",
    "    'variables' : \"\"\"GEO_ID,NAME,NAICS2022,NAICS2022_LABEL\"\"\",\n",
    "    'geography': f\"county:{COUNTYCODE}&in=state:{STATEFIPS}\",\n",
    "    'api_key': CENSUS_KEY,\n",
    "    'dataset_base': 'absmcb',\n",
    "    'year': '2022'\n",
    "}"
   ]
  },
  {
   "cell_type": "code",
   "execution_count": null,
   "metadata": {},
   "outputs": [],
   "source": [
    "def get_abs_data(abs_params):\n",
    "    \"\"\"\n",
    "    Get data from the Annual Business Survey (ABS) API\n",
    "    \n",
    "    Parameters:\n",
    "    - variables: Comma-separated string of variable names\n",
    "    - geography: Geographic level (default: national level)\n",
    "    - api_key: Your Census Bureau API key\n",
    "    \"\"\"\n",
    "    base_url = \"https://api.census.gov/data\"\n",
    "    year = abs_params['year']\n",
    "    dataset = abs_params['dataset_base']\n",
    "    variables = abs_params['variables']\n",
    "    geography = abs_params['geography']\n",
    "    api_key = abs_params['api_key']\n",
    "    \n",
    "    # Construct the full URL\n",
    "    url = f\"{base_url}/{year}/{dataset}?get={variables}&for={geography}\"\n",
    "    \n",
    "    if api_key:\n",
    "        url += f\"&key={api_key}\"\n",
    "        \n",
    "    response = requests.get(url)\n",
    "    \n",
    "    if response.status_code == 200:\n",
    "        return response.json()\n",
    "    else:\n",
    "        raise Exception(f\"Failed to retrieve data. Status code: {response}\")"
   ]
  },
  {
   "cell_type": "code",
   "execution_count": null,
   "metadata": {},
   "outputs": [],
   "source": [
    "abscs = pd.DataFrame(get_abs_data(abscs_params))\n",
    "abscs.columns = abscs.iloc[0]\n",
    "abscs = abscs.iloc[1:]\n",
    "abscs[(abscs['NAICS2022']==NAICS)]"
   ]
  },
  {
   "cell_type": "code",
   "execution_count": null,
   "metadata": {},
   "outputs": [],
   "source": [
    "abscb = pd.DataFrame(get_abs_data(abscb_params))\n",
    "abscb.columns = abscb.iloc[0]\n",
    "abscb = abscb.iloc[1:]\n",
    "abscb[(abscb['NAICS2022']==NAICS)]"
   ]
  },
  {
   "cell_type": "code",
   "execution_count": null,
   "metadata": {},
   "outputs": [],
   "source": [
    "abscbo = pd.DataFrame(get_abs_data(abscbo_params))\n",
    "abscbo.columns = abscbo.iloc[0]\n",
    "abscbo = abscbo.iloc[1:]\n",
    "abscbo[(abscbo['NAICS2022']==NAICS)]"
   ]
  },
  {
   "cell_type": "code",
   "execution_count": null,
   "metadata": {},
   "outputs": [],
   "source": [
    "absmcb = pd.DataFrame(get_abs_data(absmcb_params))\n",
    "absmcb.columns = absmcb.iloc[0]\n",
    "absmcb = absmcb.iloc[1:]\n",
    "absmcb[(absmcb['NAICS2022']==NAICS)]"
   ]
  },
  {
   "cell_type": "markdown",
   "metadata": {},
   "source": [
    "## 2. Research Potential Locations:\n",
    "- **Demographics:** Research the demographics of potential areas to ensure they align with your target market\n",
    "- **Competition:** Analyze the competitive landscape in each area to understand the level of competition\n",
    "- **Infrastructure:** Assess the availability of essential infrastructure, such as \n",
    "    - transportation\n",
    "    - utilities\n",
    "    - internet access\n",
    "- **Zoning Laws:** Understand local zoning regulations and restrictions to ensure compliance\n",
    "- **Local Resources:** Explore local government census data or tools like WIGeoLocation for further research  \n",
    "- **Accessibility:** Evaluate the accessibility of the location for both customers and employees\n",
    "- **Traffic:** Consider traffic patterns and parking availability, especially if foot traffic is important "
   ]
  },
  {
   "cell_type": "markdown",
   "metadata": {},
   "source": [
    "## 3. Evaluate and Compare:  \n",
    "- **Visit Potential Locations:** Conduct site visits to assess the suitability of each location firsthand\n",
    "- **Cost Analysis:** Compare the costs of different \n",
    "    - locations\n",
    "    - including rent\n",
    "    - utilities\n",
    "    - taxes  \n",
    "- **Pros and Cons:** Create a list of pros and cons for each potential location to help make a decision\n",
    "- **Long-Term Growth Potential:** Consider the long-term growth potential of the area and its ability to support your business  "
   ]
  },
  {
   "cell_type": "markdown",
   "metadata": {},
   "source": [
    "## 4. Consider Legal and Institutional Factors: \n",
    "- **Business Licenses:** Research the necessary business licenses and permits required for your business type and location. \n",
    "- **Local Regulations:** Understand any local regulations or restrictions that may affect your business operations.\n",
    "- **Government Incentives:** Explore any local or state government incentives or programs that may be available for businesses in specific areas."
   ]
  }
 ],
 "metadata": {
  "kernelspec": {
   "display_name": ".venv",
   "language": "python",
   "name": "python3"
  },
  "language_info": {
   "codemirror_mode": {
    "name": "ipython",
    "version": 3
   },
   "file_extension": ".py",
   "mimetype": "text/x-python",
   "name": "python",
   "nbconvert_exporter": "python",
   "pygments_lexer": "ipython3",
   "version": "3.13.3"
  }
 },
 "nbformat": 4,
 "nbformat_minor": 2
}
